{
  "nbformat": 4,
  "nbformat_minor": 0,
  "metadata": {
    "colab": {
      "provenance": [],
      "authorship_tag": "ABX9TyPWUNqLay00rdOIJR7xu62E",
      "include_colab_link": true
    },
    "kernelspec": {
      "name": "python3",
      "display_name": "Python 3"
    },
    "language_info": {
      "name": "python"
    }
  },
  "cells": [
    {
      "cell_type": "markdown",
      "metadata": {
        "id": "view-in-github",
        "colab_type": "text"
      },
      "source": [
        "<a href=\"https://colab.research.google.com/github/arianaacarvalh0/alura-imersao-ia-avaliacao/blob/main/alura_imersao_ia_avaliacao.ipynb\" target=\"_parent\"><img src=\"https://colab.research.google.com/assets/colab-badge.svg\" alt=\"Open In Colab\"/></a>"
      ]
    },
    {
      "cell_type": "code",
      "source": [
        "!pip install -q -U google-generativeai>0.4.1"
      ],
      "metadata": {
        "id": "UzA3xKmWzm1K"
      },
      "execution_count": 25,
      "outputs": []
    },
    {
      "cell_type": "code",
      "execution_count": 35,
      "metadata": {
        "id": "Z_sY3Mj3vd68"
      },
      "outputs": [],
      "source": [
        "# Importar bibliotecas\n",
        "import google.generativeai as genai\n",
        "\n",
        "from google.colab import userdata\n",
        "api_key = userdata.get('secretName')\n",
        "genai.configure(api_key=api_key)\n",
        "\n",
        "import textwrap\n",
        "\n",
        "from IPython.display import display\n",
        "from IPython.display import Markdown\n",
        "\n",
        "\n",
        "def to_markdown(text):\n",
        "  text = text.replace('•', '  *')\n",
        "  return Markdown(textwrap.indent(text, '> ', predicate=lambda _: True))"
      ]
    },
    {
      "cell_type": "code",
      "source": [
        "# Configuração de geração\n",
        "configs = {\n",
        "    'candidate_count': 1,\n",
        "    'temperature': 0.5,\n",
        "}"
      ],
      "metadata": {
        "id": "ME6WnSF2IrqF"
      },
      "execution_count": 27,
      "outputs": []
    },
    {
      "cell_type": "code",
      "source": [
        "# Especificoes do modelo\n",
        "model = genai.GenerativeModel(model_name='gemini-1.5-pro-latest',\n",
        "                              generation_config=configs,\n",
        "                              system_instruction='Imagine que você é um professor e irá indicar um roadmap com livros, temas e cursos em português do Brasil, quando eu colocar uma área em especifico.')"
      ],
      "metadata": {
        "id": "Fv-t43H90nrD"
      },
      "execution_count": 33,
      "outputs": []
    },
    {
      "cell_type": "code",
      "source": [
        "# A mágica acontece aqui\n",
        "user = input(\"Qual área você gostaria de estudar? \")\n",
        "response = model.generate_content(user)\n",
        "to_markdown(response.text)"
      ],
      "metadata": {
        "colab": {
          "base_uri": "https://localhost:8080/",
          "height": 1000
        },
        "id": "jbJbVVqtEalx",
        "outputId": "6ab3454b-765e-4954-8495-523c6e281f51"
      },
      "execution_count": 36,
      "outputs": [
        {
          "name": "stdout",
          "output_type": "stream",
          "text": [
            "Qual área você gostaria de estudar? Produto\n"
          ]
        },
        {
          "output_type": "execute_result",
          "data": {
            "text/plain": [
              "<IPython.core.display.Markdown object>"
            ],
            "text/markdown": "> ## Roadmap de Produto: do Zero ao Product Manager\n> \n> Parabéns por escolher a área de Produto! É um caminho empolgante e cheio de oportunidades. Para te guiar nessa jornada, preparei um roadmap com livros, temas e cursos em português do Brasil, focado em **Produto**.\n> \n> **Fase 1: Construindo a Base (1-3 meses)**\n> \n> **Temas:**\n> \n> * **O que é um produto?**: Definição, tipos de produtos, ciclo de vida do produto.\n> * **Descoberta de problemas e necessidades**: Pesquisa com usuários, entrevistas, análise da concorrência.\n> * **Definição de personas e mapeamento da jornada do cliente**: Criação de personas, entendimento das necessidades e dores do cliente.\n> * **Geração e validação de ideias**: Brainstorming, prototipagem, testes de usabilidade.\n> * **Métricas de Produto**: Introdução às principais métricas, como DAU, MAU, churn, NPS.\n> \n> **Livros:**\n> \n> * **Inspirado** - Marty Cagan (Português)\n> * **Hooked** - Nir Eyal (Português)\n> * **Sprint** - Jake Knapp (Português)\n> \n> **Cursos Online:**\n> \n> * **Gestão de Produtos** - PM3 (Português)\n> * **Product Management** - Tera (Português)\n> * **Desenvolvimento de Produto** - Udacity (Português)\n> \n> **Ferramentas:**\n> \n> * **Figma**: Ferramenta de design e prototipagem.\n> * **Miro**: Quadro branco online para brainstorming e organização de ideias.\n> * **Typeform**: Criação de pesquisas e formulários online.\n> \n> **Fase 2: Desenvolvimento de Produto (3-6 meses)**\n> \n> **Temas:**\n> \n> * **Priorização de funcionalidades**: Frameworks de priorização, roadmap de produto.\n> * **Metodologias ágeis**: Scrum, Kanban, Lean Startup.\n> * **Gestão de stakeholders**: Comunicação com stakeholders, gestão de expectativas.\n> * **Lançamento e iteração de produtos**: MVP, testes A/B, feedback dos usuários.\n> * **Análise de dados e métricas**: Google Analytics, Mixpanel, Amplitude.\n> \n> **Livros:**\n> \n> * **O Lado Difícil das Coisas Difíceis** - Ben Horowitz (Português)\n> * **A Startup Enxuta** - Eric Ries (Português)\n> * **Escaping the Build Trap** - Melissa Perri (Inglês)\n> \n> **Cursos Online:**\n> \n> * **Product Management: Construindo Produtos Digitais** - Awari (Português)\n> * **Scrum: Gestão Ágil para Projetos de Sucesso** - Udemy (Português)\n> * **Data Analytics for Product Managers** - Product School (Inglês)\n> \n> **Ferramentas:**\n> \n> * **Jira**: Ferramenta de gestão de projetos ágeis.\n> * **Asana**: Plataforma de gestão de trabalho para equipes.\n> * **Google Analytics**: Ferramenta de análise de dados para websites e aplicativos.\n> \n> **Fase 3: Especialização (6+ meses)**\n> \n> **Temas:**\n> \n> * **Product Marketing**: Posicionamento de produto, storytelling, lançamento de produtos.\n> * **Growth Hacking**: Técnicas de crescimento rápido, experimentação e otimização.\n> * **Gestão de times de produto**: Liderança, desenvolvimento de talentos, cultura de produto.\n> * **Tendências em tecnologia e produto**: Inteligência artificial, blockchain, realidade virtual.\n> * **Construção de comunidades**: Engajamento de usuários, feedback contínuo, advocacy.\n> \n> **Livros:**\n> \n> * **Hooked: Como Criar Produtos e Serviços Formadores de Hábito** - Nir Eyal (Português)\n> * **Traction: How to Get a Startup Going** - Gabriel Weinberg (Inglês)\n> * **Radical Product Thinking** - Radhika Dutt (Inglês)\n> \n> **Cursos Online:**\n> \n> * **Product Marketing: Como Criar e Lançar Produtos de Sucesso** - Rock Content (Português)\n> * **Growth Hacking: Aprenda as Melhores Estratégias** - Udemy (Português)\n> * **Product Leadership** - Reforge (Inglês)\n> \n> **Comunidades:**\n> \n> * **Mind The Product**: Comunidade global de gerentes de produto.\n> * **Product Hunt**: Plataforma para descobrir novos produtos e startups.\n> * **Slack**: Grupos de discussão sobre produto em português.\n> \n> **Lembre-se:** Este roadmap é um guia, adapte-o à sua realidade e ritmo de aprendizado. Explore, experimente, conecte-se com outros profissionais da área e construa sua própria jornada em Produto!"
          },
          "metadata": {},
          "execution_count": 36
        }
      ]
    }
  ]
}